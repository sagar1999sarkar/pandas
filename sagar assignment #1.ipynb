{
 "cells": [
  {
   "cell_type": "code",
   "execution_count": 50,
   "metadata": {},
   "outputs": [
    {
     "name": "stdout",
     "output_type": "stream",
     "text": [
      "Enter the Higher value15\n",
      "Enter the Lower value5\n",
      "Enter the number of values you want8\n"
     ]
    }
   ],
   "source": [
    "array=([])\n",
    "h=int(input(\"Enter the Higher value\"))\n",
    "l=int(input(\"Enter the Lower value\"))    \n",
    "n=int(input(\"Enter the number of values you want\")) \n",
    "for i in range (0,n,1):\n",
    "    z=(h-l)/(n-1)\n",
    "    array.append((h-(i*z)))\n",
    "    \n",
    "\n",
    "    \n"
   ]
  },
  {
   "cell_type": "code",
   "execution_count": 51,
   "metadata": {},
   "outputs": [
    {
     "data": {
      "text/plain": [
       "[5.0,\n",
       " 6.428571428571429,\n",
       " 7.857142857142857,\n",
       " 9.285714285714285,\n",
       " 10.714285714285715,\n",
       " 12.142857142857142,\n",
       " 13.571428571428571,\n",
       " 15.0]"
      ]
     },
     "execution_count": 51,
     "metadata": {},
     "output_type": "execute_result"
    }
   ],
   "source": [
    "arr=array.reverse()\n",
    "\n",
    "array"
   ]
  },
  {
   "cell_type": "code",
   "execution_count": null,
   "metadata": {},
   "outputs": [],
   "source": []
  }
 ],
 "metadata": {
  "kernelspec": {
   "display_name": "Python 3",
   "language": "python",
   "name": "python3"
  },
  "language_info": {
   "codemirror_mode": {
    "name": "ipython",
    "version": 3
   },
   "file_extension": ".py",
   "mimetype": "text/x-python",
   "name": "python",
   "nbconvert_exporter": "python",
   "pygments_lexer": "ipython3",
   "version": "3.7.1"
  }
 },
 "nbformat": 4,
 "nbformat_minor": 2
}
